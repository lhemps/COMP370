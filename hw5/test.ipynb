{
 "cells": [
  {
   "cell_type": "code",
   "execution_count": null,
   "id": "976e521f-282d-4b7d-ab8d-1ae61c526e0b",
   "metadata": {},
   "outputs": [],
   "source": [
    "import argparse\n",
    "import pandas as pd\n",
    "import dask.dataframe as dd\n",
    "\n",
    "\n",
    "def borough_complaints(input_file, start_date, end_date, output_file=None):\n",
    "    usecols = [0, 1, 2, 5, 25]  # Only load necessary columns\n",
    "    column_names = ['unique_key', 'created_date', 'closed_date', 'complaint_type', 'borough']\n",
    "    dtypes = {\n",
    "        'unique_key': 'object',\n",
    "        'created_date': 'object',\n",
    "        'closed_date': 'object',\n",
    "        'complaint_type': 'object',\n",
    "        'borough': 'object'\n",
    "    }\n",
    "\n",
    "    df = dd.read_csv(input_file, header=None, names=column_names, dtype=dtypes, usecols=usecols)\n",
    "\n",
    "    date_format = '%m/%d/%Y %I:%M:%S %p'\n",
    "\n",
    "    df['created_date'] = dd.to_datetime(df['created_date'], format=date_format, errors='coerce')\n",
    "    df['closed_date'] = dd.to_datetime(df['closed_date'], format=date_format, errors='coerce')\n",
    "\n",
    "    start_date = pd.to_datetime(start_date, format=\"%Y-%m-%d\")\n",
    "    end_date = pd.to_datetime(end_date, format=\"%Y-%m-%d\")\n",
    "\n",
    "    df_filtered = df[(df['created_date'] >= start_date) & (df['created_date'] <= end_date)]\n",
    "\n",
    "    result = df_filtered.groupby(['complaint_type', 'borough']).size().reset_index()\n",
    "\n",
    "    result = result.rename(columns={0: 'count'}).compute()\n",
    "\n",
    "    result_csv = result.to_csv(index=False)\n",
    "\n",
    "    if output_file:\n",
    "        with open(output_file, 'w') as f:\n",
    "            f.write(result_csv)\n",
    "    else:\n",
    "        print(result_csv)\n",
    "        \n",
    "if __name__ == \"__main__\":\n",
    "    parser = argparse.ArgumentParser()\n",
    "    parser.add_argument('-i', '--input', required=True, help='input_csv')\n",
    "    parser.add_argument('-s', '--start', required=True, help='start_date')\n",
    "    parser.add_argument('-e', '--end', required=True, help='end_date')\n",
    "    parser.add_argument('-o', '--output', help='output_csv')\n",
    "    \n",
    "    args = parser.parse_args()\n",
    "    borough_complaints(args.input, args.start, args.end, args.output)"
   ]
  }
 ],
 "metadata": {
  "kernelspec": {
   "display_name": "Python 3 (ipykernel)",
   "language": "python",
   "name": "python3"
  },
  "language_info": {
   "codemirror_mode": {
    "name": "ipython",
    "version": 3
   },
   "file_extension": ".py",
   "mimetype": "text/x-python",
   "name": "python",
   "nbconvert_exporter": "python",
   "pygments_lexer": "ipython3",
   "version": "3.12.4"
  }
 },
 "nbformat": 4,
 "nbformat_minor": 5
}
